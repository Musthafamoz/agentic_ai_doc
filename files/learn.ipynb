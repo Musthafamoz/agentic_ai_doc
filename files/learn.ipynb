{
 "cells": [
  {
   "cell_type": "code",
   "execution_count": null,
   "id": "20d128f5",
   "metadata": {},
   "outputs": [
    {
     "name": "stdout",
     "output_type": "stream",
     "text": [
      "📄 Extracted Information\n",
      "-------------------------\n",
      "National ID : 1234567890\n",
      "Action      : release_funds\n"
     ]
    }
   ],
   "source": [
    "import re\n",
    "\n",
    "def find_national_id(text: str) -> str:\n",
    "    \"\"\"Find the first 10-digit National ID in text\"\"\"\n",
    "    pattern = r\"\\b\\d{10}\\b\"\n",
    "    match = re.search(pattern, text)\n",
    "    return match.group(0) if match else None\n",
    "\n",
    "def determine_action(text: str) -> str:\n",
    "    \"\"\"Determine action (freeze or release) based on keywords\"\"\"\n",
    "    text_lower = text.lower()\n",
    "\n",
    "    freeze_keywords = [\"freeze\", \"frozen\", \"suspend\", \"suspended\"]\n",
    "    release_keywords = [\"release\", \"released\", \"transfer\", \"transferred\"]\n",
    "\n",
    "    freeze_score = sum(1 for kw in freeze_keywords if kw in text_lower)\n",
    "    release_score = sum(1 for kw in release_keywords if kw in text_lower)\n",
    "\n",
    "    if freeze_score > release_score:\n",
    "        return \"freeze_funds\"\n",
    "    elif release_score > freeze_score:\n",
    "        return \"release_funds\"\n",
    "    else:\n",
    "        return \"unknown_action\"\n",
    "\n",
    "if __name__ == \"__main__\":\n",
    "    # Example input (you can replace with file content later)\n",
    "    sample_text = \"\"\"\n",
    "\n",
    "    This is to notify that account linked with National ID 1234567890\n",
    "    must not be released and to be frozen immediately due to legal orders.\n",
    "    \"\"\"\n",
    "\n",
    "    national_id = find_national_id(sample_text)\n",
    "    action = determine_action(sample_text)\n",
    "\n",
    "    print(\"📄 Extracted Information\")\n",
    "    print(\"-------------------------\")\n",
    "    print(f\"National ID : {national_id if national_id else 'Not found'}\")\n",
    "    print(f\"Action      : {action}\")\n"
   ]
  }
 ],
 "metadata": {
  "kernelspec": {
   "display_name": "venv",
   "language": "python",
   "name": "python3"
  },
  "language_info": {
   "codemirror_mode": {
    "name": "ipython",
    "version": 3
   },
   "file_extension": ".py",
   "mimetype": "text/x-python",
   "name": "python",
   "nbconvert_exporter": "python",
   "pygments_lexer": "ipython3",
   "version": "3.12.4"
  }
 },
 "nbformat": 4,
 "nbformat_minor": 5
}
